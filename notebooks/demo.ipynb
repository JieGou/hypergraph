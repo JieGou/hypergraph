{
 "cells": [
  {
   "cell_type": "code",
   "execution_count": null,
   "metadata": {},
   "outputs": [],
   "source": [
    "import os\n",
    "\n",
    "import requests\n",
    "\n",
    "\n",
    "\n",
    "from dotenv import load_dotenv\n",
    "\n",
    "from api.lib.tools import (\n",
    "    BaseApartment,\n",
    "    FullApartment,\n",
    "    Face,\n",
    "    Pt,\n",
    "    Line,\n",
    "    FitReferenceRequest,\n",
    ")\n",
    "\n",
    "\n",
    "load_dotenv(\".env\")"
   ]
  },
  {
   "cell_type": "code",
   "execution_count": null,
   "metadata": {},
   "outputs": [],
   "source": [
    "root_url = os.getenv(\"API_ROOT_URL\")"
   ]
  },
  {
   "cell_type": "code",
   "execution_count": 3,
   "metadata": {},
   "outputs": [
    {
     "data": {
      "text/plain": [
       "<Axes: >"
      ]
     },
     "execution_count": 3,
     "metadata": {},
     "output_type": "execute_result"
    },
    {
     "data": {
      "image/png": "[encoded data removed]",
      "text/plain": [
       "<Figure size 640x480 with 1 Axes>"
      ]
     },
     "metadata": {},
     "output_type": "display_data"
    }
   ],
   "source": [
    "base_apt = BaseApartment(\n",
    "    bounds=Face(\n",
    "        corners=[\n",
    "            Pt(loc=(0, 0)),\n",
    "            Pt(loc=(0, 10)),\n",
    "            Pt(loc=(10, 10)),\n",
    "            Pt(loc=(10, 0)),\n",
    "        ]\n",
    "    ),\n",
    "    facade=[\n",
    "        Line(\n",
    "            start=Pt(loc=(0, 0)),\n",
    "            end=Pt(loc=(0, 10)),\n",
    "        ),\n",
    "    ],\n",
    "    circulaton=[\n",
    "        Line(\n",
    "            start=Pt(loc=(10, 0)),\n",
    "            end=Pt(loc=(10, 10)),\n",
    "        ),\n",
    "    ],\n",
    ")\n",
    "base_apt.plot()"
   ]
  },
  {
   "cell_type": "code",
   "execution_count": 4,
   "metadata": {},
   "outputs": [],
   "source": [
    "fit_db_url = root_url + \"/fit/db\"\n",
    "res = requests.post(fit_db_url, data=base_apt.model_dump_json())\n",
    "results = res.json()"
   ]
  },
  {
   "cell_type": "code",
   "execution_count": 5,
   "metadata": {},
   "outputs": [],
   "source": [
    "fit_reference_url = root_url + \"/fit/reference\"\n",
    "full_apt = FullApartment()\n",
    "body = FitReferenceRequest(\n",
    "    base_apt=base_apt,\n",
    "    full_apt=full_apt,\n",
    ")\n",
    "res = requests.post(fit_reference_url, data=body.model_dump_json())\n",
    "results = res.json()"
   ]
  }
 ],
 "metadata": {
  "kernelspec": {
   "display_name": "Python 3",
   "language": "python",
   "name": "python3"
  },
  "language_info": {
   "codemirror_mode": {
    "name": "ipython",
    "version": 3
   },
   "file_extension": ".py",
   "mimetype": "text/x-python",
   "name": "python",
   "nbconvert_exporter": "python",
   "pygments_lexer": "ipython3",
   "version": "3.9.18"
  },
  "orig_nbformat": 4
 },
 "nbformat": 4,
 "nbformat_minor": 2
}
